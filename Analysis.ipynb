{
 "cells": [
  {
   "cell_type": "markdown",
   "id": "17a2ab05-742c-42d9-b16f-5e595dd96712",
   "metadata": {},
   "source": [
    "# Tugas Besar IF2220 Probabilitas dan Statistika \n",
    "Penarikan Kesimpulan dan Pengujian Hipotesis \n",
    "\n",
    "1. Eduardus Alvito Kristiadi - 13522004\n",
    "2. Francesco Michael Kusuma - 13522038\n",
    "\n"
   ]
  },
  {
   "cell_type": "markdown",
   "id": "be887ab7-e249-4fdf-912a-ed9affcc41ef",
   "metadata": {},
   "source": [
    "# Import Libraries"
   ]
  },
  {
   "cell_type": "code",
   "execution_count": 1,
   "id": "d9632914-c180-42c0-9ae8-70a701f058f3",
   "metadata": {},
   "outputs": [],
   "source": [
    "import pandas as pd\n",
    "import numpy as np\n",
    "import matplotlib.pyplot as plt"
   ]
  },
  {
   "cell_type": "markdown",
   "id": "1668480d-2fa7-48cc-99eb-2b4071a146b2",
   "metadata": {},
   "source": [
    "# Import Dataset"
   ]
  },
  {
   "cell_type": "code",
   "execution_count": 2,
   "id": "b38d2b40-45d7-4d2e-9684-2bb72ff4abd6",
   "metadata": {},
   "outputs": [],
   "source": [
    "df = pd.read_csv(\"./\") # input the dataset\n",
    "df"
   ]
  },
  {
   "cell_type": "markdown",
   "id": "c75f8d1b-9ee4-43af-9db5-360547428c0c",
   "metadata": {},
   "source": [
    "# Missing Value"
   ]
  },
  {
   "cell_type": "code",
   "execution_count": null,
   "id": "688c406f-d420-4a27-b8c2-92b380903c51",
   "metadata": {},
   "outputs": [],
   "source": [
    "missingValues = df.isnull().sum(axis = 0)\n",
    "nanCols = missingValues[missingValues > 0]\n",
    "\n",
    "print(f\"Missing data : {len(nonCols)}\")"
   ]
  },
  {
   "cell_type": "markdown",
   "id": "42fc464c-e0a1-4b28-b74f-47deb7fae09c",
   "metadata": {},
   "source": [
    "# Feature Information"
   ]
  },
  {
   "cell_type": "code",
   "execution_count": null,
   "id": "baaaa725-1fcd-4903-91c2-c70dc1490086",
   "metadata": {},
   "outputs": [],
   "source": [
    "df.info()"
   ]
  },
  {
   "cell_type": "markdown",
   "id": "565a349e-3aff-4493-9d5e-1ee67cfa3f9f",
   "metadata": {},
   "source": [
    "# Data description"
   ]
  },
  {
   "cell_type": "code",
   "execution_count": null,
   "id": "130ec65d-217a-4fe7-8c6f-6039b6d3fbfd",
   "metadata": {},
   "outputs": [],
   "source": [
    "df.describe()"
   ]
  },
  {
   "cell_type": "markdown",
   "id": "84b33d0c-0d50-4af6-8e60-eb76b60c75fb",
   "metadata": {},
   "source": [
    "# Mean"
   ]
  },
  {
   "cell_type": "code",
   "execution_count": null,
   "id": "4c0fe04a-b84a-4400-bf6d-f1316eac4008",
   "metadata": {},
   "outputs": [],
   "source": [
    "df.mean()"
   ]
  },
  {
   "cell_type": "markdown",
   "id": "1a344042-134e-457b-ba9f-29e5c80c6153",
   "metadata": {},
   "source": [
    "# Median"
   ]
  },
  {
   "cell_type": "code",
   "execution_count": null,
   "id": "51a1e9c4-2732-41f2-8478-880773bac2af",
   "metadata": {},
   "outputs": [],
   "source": [
    "df.median()"
   ]
  },
  {
   "cell_type": "markdown",
   "id": "4c81d31c-5e1f-47d2-a516-cd04038c766f",
   "metadata": {},
   "source": [
    "# Variance"
   ]
  },
  {
   "cell_type": "code",
   "execution_count": null,
   "id": "6ccca8b7-4904-4a3c-9685-05a6eea4335f",
   "metadata": {},
   "outputs": [],
   "source": [
    "df.var()"
   ]
  },
  {
   "cell_type": "markdown",
   "id": "bbec8c2a-b0e4-4d71-9c17-7f5192bea812",
   "metadata": {},
   "source": [
    "# Range"
   ]
  },
  {
   "cell_type": "code",
   "execution_count": null,
   "id": "ff969366-b648-40ed-bd48-4e2c4390f7dd",
   "metadata": {},
   "outputs": [],
   "source": [
    "print(df.max() - df.min())"
   ]
  },
  {
   "cell_type": "markdown",
   "id": "98d8b660-a1d3-4978-97da-7dc4557310aa",
   "metadata": {},
   "source": [
    "# Unique Values"
   ]
  },
  {
   "cell_type": "code",
   "execution_count": null,
   "id": "1c3bba06-4d1a-43ea-b408-7c53d52ab115",
   "metadata": {},
   "outputs": [],
   "source": [
    "df.unique()"
   ]
  },
  {
   "cell_type": "markdown",
   "id": "d12c06bd-3984-49c9-99b1-48c1608d2ffe",
   "metadata": {},
   "source": [
    "# Skewness"
   ]
  },
  {
   "cell_type": "code",
   "execution_count": null,
   "id": "ef83843d-cb95-47c1-9981-077b05411c8e",
   "metadata": {},
   "outputs": [],
   "source": [
    "df.skew()"
   ]
  }
 ],
 "metadata": {
  "kernelspec": {
   "display_name": "Python 3 (ipykernel)",
   "language": "python",
   "name": "python3"
  },
  "language_info": {
   "codemirror_mode": {
    "name": "ipython",
    "version": 3
   },
   "file_extension": ".py",
   "mimetype": "text/x-python",
   "name": "python",
   "nbconvert_exporter": "python",
   "pygments_lexer": "ipython3",
   "version": "3.11.7"
  }
 },
 "nbformat": 4,
 "nbformat_minor": 5
}
