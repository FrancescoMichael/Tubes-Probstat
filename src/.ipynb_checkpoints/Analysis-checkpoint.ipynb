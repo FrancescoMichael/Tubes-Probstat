{
 "cells": [
  {
   "cell_type": "markdown",
   "id": "17a2ab05-742c-42d9-b16f-5e595dd96712",
   "metadata": {},
   "source": [
    "# Tugas Besar IF2220 Probabilitas dan Statistika \n",
    "Penarikan Kesimpulan dan Pengujian Hipotesis \n",
    "\n",
    "1. Eduardus Alvito Kristiadi - 13522004\n",
    "2. Francesco Michael Kusuma - 13522038\n",
    "\n"
   ]
  },
  {
   "cell_type": "markdown",
   "id": "be887ab7-e249-4fdf-912a-ed9affcc41ef",
   "metadata": {},
   "source": [
    "# Import Libraries"
   ]
  },
  {
   "cell_type": "code",
   "execution_count": 1,
   "id": "d9632914-c180-42c0-9ae8-70a701f058f3",
   "metadata": {},
   "outputs": [],
   "source": [
    "import pandas as pd\n",
    "import numpy as np\n",
    "import matplotlib.pyplot as plt"
   ]
  },
  {
   "cell_type": "markdown",
   "id": "1668480d-2fa7-48cc-99eb-2b4071a146b2",
   "metadata": {},
   "source": [
    "# Import Dataset"
   ]
  },
  {
   "cell_type": "code",
   "execution_count": 2,
   "id": "b38d2b40-45d7-4d2e-9684-2bb72ff4abd6",
   "metadata": {},
   "outputs": [
    {
     "data": {
      "text/html": [
       "<div>\n",
       "<style scoped>\n",
       "    .dataframe tbody tr th:only-of-type {\n",
       "        vertical-align: middle;\n",
       "    }\n",
       "\n",
       "    .dataframe tbody tr th {\n",
       "        vertical-align: top;\n",
       "    }\n",
       "\n",
       "    .dataframe thead th {\n",
       "        text-align: right;\n",
       "    }\n",
       "</style>\n",
       "<table border=\"1\" class=\"dataframe\">\n",
       "  <thead>\n",
       "    <tr style=\"text-align: right;\">\n",
       "      <th></th>\n",
       "      <th>Unnamed: 0</th>\n",
       "      <th>Calories</th>\n",
       "      <th>Serving</th>\n",
       "      <th>Protein</th>\n",
       "      <th>Sugar</th>\n",
       "      <th>Sodium</th>\n",
       "      <th>Fat</th>\n",
       "      <th>Fiber</th>\n",
       "      <th>Flavour</th>\n",
       "      <th>Popularity</th>\n",
       "    </tr>\n",
       "  </thead>\n",
       "  <tbody>\n",
       "    <tr>\n",
       "      <th>0</th>\n",
       "      <td>0</td>\n",
       "      <td>199.093472</td>\n",
       "      <td>38.515232</td>\n",
       "      <td>1.900459</td>\n",
       "      <td>19.853806</td>\n",
       "      <td>74.674097</td>\n",
       "      <td>7.587634</td>\n",
       "      <td>0.138605</td>\n",
       "      <td>Vanilla</td>\n",
       "      <td>41.259773</td>\n",
       "    </tr>\n",
       "    <tr>\n",
       "      <th>1</th>\n",
       "      <td>1</td>\n",
       "      <td>200.593259</td>\n",
       "      <td>40.938412</td>\n",
       "      <td>2.808666</td>\n",
       "      <td>21.640665</td>\n",
       "      <td>76.748829</td>\n",
       "      <td>6.332619</td>\n",
       "      <td>0.569315</td>\n",
       "      <td>Strawberry</td>\n",
       "      <td>44.089254</td>\n",
       "    </tr>\n",
       "    <tr>\n",
       "      <th>2</th>\n",
       "      <td>2</td>\n",
       "      <td>200.809089</td>\n",
       "      <td>40.107873</td>\n",
       "      <td>1.863457</td>\n",
       "      <td>20.106473</td>\n",
       "      <td>73.822751</td>\n",
       "      <td>6.377162</td>\n",
       "      <td>0.294916</td>\n",
       "      <td>Strawberry</td>\n",
       "      <td>46.941862</td>\n",
       "    </tr>\n",
       "    <tr>\n",
       "      <th>3</th>\n",
       "      <td>3</td>\n",
       "      <td>199.505615</td>\n",
       "      <td>39.529170</td>\n",
       "      <td>2.819872</td>\n",
       "      <td>19.026629</td>\n",
       "      <td>73.351009</td>\n",
       "      <td>5.971648</td>\n",
       "      <td>0.181527</td>\n",
       "      <td>Strawberry</td>\n",
       "      <td>53.331791</td>\n",
       "    </tr>\n",
       "    <tr>\n",
       "      <th>4</th>\n",
       "      <td>4</td>\n",
       "      <td>199.398557</td>\n",
       "      <td>39.840058</td>\n",
       "      <td>2.603907</td>\n",
       "      <td>21.735672</td>\n",
       "      <td>76.422204</td>\n",
       "      <td>6.924652</td>\n",
       "      <td>0.530055</td>\n",
       "      <td>Chocolate</td>\n",
       "      <td>48.471775</td>\n",
       "    </tr>\n",
       "    <tr>\n",
       "      <th>...</th>\n",
       "      <td>...</td>\n",
       "      <td>...</td>\n",
       "      <td>...</td>\n",
       "      <td>...</td>\n",
       "      <td>...</td>\n",
       "      <td>...</td>\n",
       "      <td>...</td>\n",
       "      <td>...</td>\n",
       "      <td>...</td>\n",
       "      <td>...</td>\n",
       "    </tr>\n",
       "    <tr>\n",
       "      <th>1995</th>\n",
       "      <td>1995</td>\n",
       "      <td>199.469890</td>\n",
       "      <td>41.409594</td>\n",
       "      <td>1.426827</td>\n",
       "      <td>19.900369</td>\n",
       "      <td>74.947492</td>\n",
       "      <td>7.297713</td>\n",
       "      <td>0.264281</td>\n",
       "      <td>Strawberry</td>\n",
       "      <td>32.993853</td>\n",
       "    </tr>\n",
       "    <tr>\n",
       "      <th>1996</th>\n",
       "      <td>1996</td>\n",
       "      <td>198.775889</td>\n",
       "      <td>41.219983</td>\n",
       "      <td>1.565405</td>\n",
       "      <td>19.701805</td>\n",
       "      <td>74.793927</td>\n",
       "      <td>6.226603</td>\n",
       "      <td>0.741278</td>\n",
       "      <td>Vanilla</td>\n",
       "      <td>61.284063</td>\n",
       "    </tr>\n",
       "    <tr>\n",
       "      <th>1997</th>\n",
       "      <td>1997</td>\n",
       "      <td>201.194004</td>\n",
       "      <td>38.044068</td>\n",
       "      <td>3.424172</td>\n",
       "      <td>19.600528</td>\n",
       "      <td>74.635503</td>\n",
       "      <td>6.831742</td>\n",
       "      <td>0.696798</td>\n",
       "      <td>Chocolate</td>\n",
       "      <td>57.484075</td>\n",
       "    </tr>\n",
       "    <tr>\n",
       "      <th>1998</th>\n",
       "      <td>1998</td>\n",
       "      <td>198.293784</td>\n",
       "      <td>40.357271</td>\n",
       "      <td>3.155686</td>\n",
       "      <td>20.645426</td>\n",
       "      <td>74.330803</td>\n",
       "      <td>6.250351</td>\n",
       "      <td>0.779107</td>\n",
       "      <td>Chocolate</td>\n",
       "      <td>66.672724</td>\n",
       "    </tr>\n",
       "    <tr>\n",
       "      <th>1999</th>\n",
       "      <td>1999</td>\n",
       "      <td>200.045891</td>\n",
       "      <td>40.306882</td>\n",
       "      <td>1.709739</td>\n",
       "      <td>19.304767</td>\n",
       "      <td>72.693937</td>\n",
       "      <td>6.797929</td>\n",
       "      <td>0.523419</td>\n",
       "      <td>Strawberry</td>\n",
       "      <td>58.115768</td>\n",
       "    </tr>\n",
       "  </tbody>\n",
       "</table>\n",
       "<p>2000 rows × 10 columns</p>\n",
       "</div>"
      ],
      "text/plain": [
       "      Unnamed: 0    Calories    Serving   Protein      Sugar     Sodium  \\\n",
       "0              0  199.093472  38.515232  1.900459  19.853806  74.674097   \n",
       "1              1  200.593259  40.938412  2.808666  21.640665  76.748829   \n",
       "2              2  200.809089  40.107873  1.863457  20.106473  73.822751   \n",
       "3              3  199.505615  39.529170  2.819872  19.026629  73.351009   \n",
       "4              4  199.398557  39.840058  2.603907  21.735672  76.422204   \n",
       "...          ...         ...        ...       ...        ...        ...   \n",
       "1995        1995  199.469890  41.409594  1.426827  19.900369  74.947492   \n",
       "1996        1996  198.775889  41.219983  1.565405  19.701805  74.793927   \n",
       "1997        1997  201.194004  38.044068  3.424172  19.600528  74.635503   \n",
       "1998        1998  198.293784  40.357271  3.155686  20.645426  74.330803   \n",
       "1999        1999  200.045891  40.306882  1.709739  19.304767  72.693937   \n",
       "\n",
       "           Fat     Fiber     Flavour  Popularity  \n",
       "0     7.587634  0.138605     Vanilla   41.259773  \n",
       "1     6.332619  0.569315  Strawberry   44.089254  \n",
       "2     6.377162  0.294916  Strawberry   46.941862  \n",
       "3     5.971648  0.181527  Strawberry   53.331791  \n",
       "4     6.924652  0.530055   Chocolate   48.471775  \n",
       "...        ...       ...         ...         ...  \n",
       "1995  7.297713  0.264281  Strawberry   32.993853  \n",
       "1996  6.226603  0.741278     Vanilla   61.284063  \n",
       "1997  6.831742  0.696798   Chocolate   57.484075  \n",
       "1998  6.250351  0.779107   Chocolate   66.672724  \n",
       "1999  6.797929  0.523419  Strawberry   58.115768  \n",
       "\n",
       "[2000 rows x 10 columns]"
      ]
     },
     "execution_count": 2,
     "metadata": {},
     "output_type": "execute_result"
    }
   ],
   "source": [
    "data_path = \"../data/candy.csv\"\n",
    "df = pd.read_csv(data_path)\n",
    "df"
   ]
  },
  {
   "cell_type": "markdown",
   "id": "c75f8d1b-9ee4-43af-9db5-360547428c0c",
   "metadata": {},
   "source": [
    "# Missing Value"
   ]
  },
  {
   "cell_type": "code",
   "execution_count": 3,
   "id": "688c406f-d420-4a27-b8c2-92b380903c51",
   "metadata": {},
   "outputs": [
    {
     "name": "stdout",
     "output_type": "stream",
     "text": [
      "Missing data : 0\n"
     ]
    }
   ],
   "source": [
    "missing_values = df.isnull().sum(axis = 0)\n",
    "nan_cols = missing_values[missing_values > 0]\n",
    "\n",
    "print(f\"Missing data : {len(nan_cols)}\")"
   ]
  },
  {
   "cell_type": "markdown",
   "id": "42fc464c-e0a1-4b28-b74f-47deb7fae09c",
   "metadata": {},
   "source": [
    "# Feature Information"
   ]
  },
  {
   "cell_type": "code",
   "execution_count": 4,
   "id": "baaaa725-1fcd-4903-91c2-c70dc1490086",
   "metadata": {},
   "outputs": [
    {
     "name": "stdout",
     "output_type": "stream",
     "text": [
      "<class 'pandas.core.frame.DataFrame'>\n",
      "RangeIndex: 2000 entries, 0 to 1999\n",
      "Data columns (total 10 columns):\n",
      " #   Column      Non-Null Count  Dtype  \n",
      "---  ------      --------------  -----  \n",
      " 0   Unnamed: 0  2000 non-null   int64  \n",
      " 1   Calories    2000 non-null   float64\n",
      " 2   Serving     2000 non-null   float64\n",
      " 3   Protein     2000 non-null   float64\n",
      " 4   Sugar       2000 non-null   float64\n",
      " 5   Sodium      2000 non-null   float64\n",
      " 6   Fat         2000 non-null   float64\n",
      " 7   Fiber       2000 non-null   float64\n",
      " 8   Flavour     2000 non-null   object \n",
      " 9   Popularity  2000 non-null   float64\n",
      "dtypes: float64(8), int64(1), object(1)\n",
      "memory usage: 156.4+ KB\n"
     ]
    }
   ],
   "source": [
    "df.info()"
   ]
  },
  {
   "cell_type": "code",
   "execution_count": 5,
   "id": "d5fa0e4d-d0ed-4567-b048-8b891bd73caf",
   "metadata": {},
   "outputs": [
    {
     "data": {
      "text/html": [
       "<div>\n",
       "<style scoped>\n",
       "    .dataframe tbody tr th:only-of-type {\n",
       "        vertical-align: middle;\n",
       "    }\n",
       "\n",
       "    .dataframe tbody tr th {\n",
       "        vertical-align: top;\n",
       "    }\n",
       "\n",
       "    .dataframe thead th {\n",
       "        text-align: right;\n",
       "    }\n",
       "</style>\n",
       "<table border=\"1\" class=\"dataframe\">\n",
       "  <thead>\n",
       "    <tr style=\"text-align: right;\">\n",
       "      <th></th>\n",
       "      <th>Unnamed: 0</th>\n",
       "      <th>Calories</th>\n",
       "      <th>Serving</th>\n",
       "      <th>Protein</th>\n",
       "      <th>Sugar</th>\n",
       "      <th>Sodium</th>\n",
       "      <th>Fat</th>\n",
       "      <th>Fiber</th>\n",
       "      <th>Popularity</th>\n",
       "    </tr>\n",
       "  </thead>\n",
       "  <tbody>\n",
       "    <tr>\n",
       "      <th>0</th>\n",
       "      <td>0</td>\n",
       "      <td>199.093472</td>\n",
       "      <td>38.515232</td>\n",
       "      <td>1.900459</td>\n",
       "      <td>19.853806</td>\n",
       "      <td>74.674097</td>\n",
       "      <td>7.587634</td>\n",
       "      <td>0.138605</td>\n",
       "      <td>41.259773</td>\n",
       "    </tr>\n",
       "    <tr>\n",
       "      <th>1</th>\n",
       "      <td>1</td>\n",
       "      <td>200.593259</td>\n",
       "      <td>40.938412</td>\n",
       "      <td>2.808666</td>\n",
       "      <td>21.640665</td>\n",
       "      <td>76.748829</td>\n",
       "      <td>6.332619</td>\n",
       "      <td>0.569315</td>\n",
       "      <td>44.089254</td>\n",
       "    </tr>\n",
       "    <tr>\n",
       "      <th>2</th>\n",
       "      <td>2</td>\n",
       "      <td>200.809089</td>\n",
       "      <td>40.107873</td>\n",
       "      <td>1.863457</td>\n",
       "      <td>20.106473</td>\n",
       "      <td>73.822751</td>\n",
       "      <td>6.377162</td>\n",
       "      <td>0.294916</td>\n",
       "      <td>46.941862</td>\n",
       "    </tr>\n",
       "    <tr>\n",
       "      <th>3</th>\n",
       "      <td>3</td>\n",
       "      <td>199.505615</td>\n",
       "      <td>39.529170</td>\n",
       "      <td>2.819872</td>\n",
       "      <td>19.026629</td>\n",
       "      <td>73.351009</td>\n",
       "      <td>5.971648</td>\n",
       "      <td>0.181527</td>\n",
       "      <td>53.331791</td>\n",
       "    </tr>\n",
       "    <tr>\n",
       "      <th>4</th>\n",
       "      <td>4</td>\n",
       "      <td>199.398557</td>\n",
       "      <td>39.840058</td>\n",
       "      <td>2.603907</td>\n",
       "      <td>21.735672</td>\n",
       "      <td>76.422204</td>\n",
       "      <td>6.924652</td>\n",
       "      <td>0.530055</td>\n",
       "      <td>48.471775</td>\n",
       "    </tr>\n",
       "    <tr>\n",
       "      <th>...</th>\n",
       "      <td>...</td>\n",
       "      <td>...</td>\n",
       "      <td>...</td>\n",
       "      <td>...</td>\n",
       "      <td>...</td>\n",
       "      <td>...</td>\n",
       "      <td>...</td>\n",
       "      <td>...</td>\n",
       "      <td>...</td>\n",
       "    </tr>\n",
       "    <tr>\n",
       "      <th>1995</th>\n",
       "      <td>1995</td>\n",
       "      <td>199.469890</td>\n",
       "      <td>41.409594</td>\n",
       "      <td>1.426827</td>\n",
       "      <td>19.900369</td>\n",
       "      <td>74.947492</td>\n",
       "      <td>7.297713</td>\n",
       "      <td>0.264281</td>\n",
       "      <td>32.993853</td>\n",
       "    </tr>\n",
       "    <tr>\n",
       "      <th>1996</th>\n",
       "      <td>1996</td>\n",
       "      <td>198.775889</td>\n",
       "      <td>41.219983</td>\n",
       "      <td>1.565405</td>\n",
       "      <td>19.701805</td>\n",
       "      <td>74.793927</td>\n",
       "      <td>6.226603</td>\n",
       "      <td>0.741278</td>\n",
       "      <td>61.284063</td>\n",
       "    </tr>\n",
       "    <tr>\n",
       "      <th>1997</th>\n",
       "      <td>1997</td>\n",
       "      <td>201.194004</td>\n",
       "      <td>38.044068</td>\n",
       "      <td>3.424172</td>\n",
       "      <td>19.600528</td>\n",
       "      <td>74.635503</td>\n",
       "      <td>6.831742</td>\n",
       "      <td>0.696798</td>\n",
       "      <td>57.484075</td>\n",
       "    </tr>\n",
       "    <tr>\n",
       "      <th>1998</th>\n",
       "      <td>1998</td>\n",
       "      <td>198.293784</td>\n",
       "      <td>40.357271</td>\n",
       "      <td>3.155686</td>\n",
       "      <td>20.645426</td>\n",
       "      <td>74.330803</td>\n",
       "      <td>6.250351</td>\n",
       "      <td>0.779107</td>\n",
       "      <td>66.672724</td>\n",
       "    </tr>\n",
       "    <tr>\n",
       "      <th>1999</th>\n",
       "      <td>1999</td>\n",
       "      <td>200.045891</td>\n",
       "      <td>40.306882</td>\n",
       "      <td>1.709739</td>\n",
       "      <td>19.304767</td>\n",
       "      <td>72.693937</td>\n",
       "      <td>6.797929</td>\n",
       "      <td>0.523419</td>\n",
       "      <td>58.115768</td>\n",
       "    </tr>\n",
       "  </tbody>\n",
       "</table>\n",
       "<p>2000 rows × 9 columns</p>\n",
       "</div>"
      ],
      "text/plain": [
       "      Unnamed: 0    Calories    Serving   Protein      Sugar     Sodium  \\\n",
       "0              0  199.093472  38.515232  1.900459  19.853806  74.674097   \n",
       "1              1  200.593259  40.938412  2.808666  21.640665  76.748829   \n",
       "2              2  200.809089  40.107873  1.863457  20.106473  73.822751   \n",
       "3              3  199.505615  39.529170  2.819872  19.026629  73.351009   \n",
       "4              4  199.398557  39.840058  2.603907  21.735672  76.422204   \n",
       "...          ...         ...        ...       ...        ...        ...   \n",
       "1995        1995  199.469890  41.409594  1.426827  19.900369  74.947492   \n",
       "1996        1996  198.775889  41.219983  1.565405  19.701805  74.793927   \n",
       "1997        1997  201.194004  38.044068  3.424172  19.600528  74.635503   \n",
       "1998        1998  198.293784  40.357271  3.155686  20.645426  74.330803   \n",
       "1999        1999  200.045891  40.306882  1.709739  19.304767  72.693937   \n",
       "\n",
       "           Fat     Fiber  Popularity  \n",
       "0     7.587634  0.138605   41.259773  \n",
       "1     6.332619  0.569315   44.089254  \n",
       "2     6.377162  0.294916   46.941862  \n",
       "3     5.971648  0.181527   53.331791  \n",
       "4     6.924652  0.530055   48.471775  \n",
       "...        ...       ...         ...  \n",
       "1995  7.297713  0.264281   32.993853  \n",
       "1996  6.226603  0.741278   61.284063  \n",
       "1997  6.831742  0.696798   57.484075  \n",
       "1998  6.250351  0.779107   66.672724  \n",
       "1999  6.797929  0.523419   58.115768  \n",
       "\n",
       "[2000 rows x 9 columns]"
      ]
     },
     "execution_count": 5,
     "metadata": {},
     "output_type": "execute_result"
    }
   ],
   "source": [
    "numeric_columns = df.select_dtypes(include=['number'])\n",
    "numeric_columns"
   ]
  },
  {
   "cell_type": "code",
   "execution_count": 6,
   "id": "952e0890-e990-46ed-a2a7-4b82fd52ce48",
   "metadata": {},
   "outputs": [
    {
     "data": {
      "text/html": [
       "<div>\n",
       "<style scoped>\n",
       "    .dataframe tbody tr th:only-of-type {\n",
       "        vertical-align: middle;\n",
       "    }\n",
       "\n",
       "    .dataframe tbody tr th {\n",
       "        vertical-align: top;\n",
       "    }\n",
       "\n",
       "    .dataframe thead th {\n",
       "        text-align: right;\n",
       "    }\n",
       "</style>\n",
       "<table border=\"1\" class=\"dataframe\">\n",
       "  <thead>\n",
       "    <tr style=\"text-align: right;\">\n",
       "      <th></th>\n",
       "      <th>Flavour</th>\n",
       "    </tr>\n",
       "  </thead>\n",
       "  <tbody>\n",
       "    <tr>\n",
       "      <th>0</th>\n",
       "      <td>Vanilla</td>\n",
       "    </tr>\n",
       "    <tr>\n",
       "      <th>1</th>\n",
       "      <td>Strawberry</td>\n",
       "    </tr>\n",
       "    <tr>\n",
       "      <th>2</th>\n",
       "      <td>Strawberry</td>\n",
       "    </tr>\n",
       "    <tr>\n",
       "      <th>3</th>\n",
       "      <td>Strawberry</td>\n",
       "    </tr>\n",
       "    <tr>\n",
       "      <th>4</th>\n",
       "      <td>Chocolate</td>\n",
       "    </tr>\n",
       "    <tr>\n",
       "      <th>...</th>\n",
       "      <td>...</td>\n",
       "    </tr>\n",
       "    <tr>\n",
       "      <th>1995</th>\n",
       "      <td>Strawberry</td>\n",
       "    </tr>\n",
       "    <tr>\n",
       "      <th>1996</th>\n",
       "      <td>Vanilla</td>\n",
       "    </tr>\n",
       "    <tr>\n",
       "      <th>1997</th>\n",
       "      <td>Chocolate</td>\n",
       "    </tr>\n",
       "    <tr>\n",
       "      <th>1998</th>\n",
       "      <td>Chocolate</td>\n",
       "    </tr>\n",
       "    <tr>\n",
       "      <th>1999</th>\n",
       "      <td>Strawberry</td>\n",
       "    </tr>\n",
       "  </tbody>\n",
       "</table>\n",
       "<p>2000 rows × 1 columns</p>\n",
       "</div>"
      ],
      "text/plain": [
       "         Flavour\n",
       "0        Vanilla\n",
       "1     Strawberry\n",
       "2     Strawberry\n",
       "3     Strawberry\n",
       "4      Chocolate\n",
       "...          ...\n",
       "1995  Strawberry\n",
       "1996     Vanilla\n",
       "1997   Chocolate\n",
       "1998   Chocolate\n",
       "1999  Strawberry\n",
       "\n",
       "[2000 rows x 1 columns]"
      ]
     },
     "execution_count": 6,
     "metadata": {},
     "output_type": "execute_result"
    }
   ],
   "source": [
    "non_numeric_columns = df.select_dtypes(exclude=['number'])\n",
    "non_numeric_columns"
   ]
  },
  {
   "cell_type": "markdown",
   "id": "565a349e-3aff-4493-9d5e-1ee67cfa3f9f",
   "metadata": {},
   "source": [
    "# Data description"
   ]
  },
  {
   "cell_type": "code",
   "execution_count": 7,
   "id": "130ec65d-217a-4fe7-8c6f-6039b6d3fbfd",
   "metadata": {},
   "outputs": [
    {
     "data": {
      "text/html": [
       "<div>\n",
       "<style scoped>\n",
       "    .dataframe tbody tr th:only-of-type {\n",
       "        vertical-align: middle;\n",
       "    }\n",
       "\n",
       "    .dataframe tbody tr th {\n",
       "        vertical-align: top;\n",
       "    }\n",
       "\n",
       "    .dataframe thead th {\n",
       "        text-align: right;\n",
       "    }\n",
       "</style>\n",
       "<table border=\"1\" class=\"dataframe\">\n",
       "  <thead>\n",
       "    <tr style=\"text-align: right;\">\n",
       "      <th></th>\n",
       "      <th>Unnamed: 0</th>\n",
       "      <th>Calories</th>\n",
       "      <th>Serving</th>\n",
       "      <th>Protein</th>\n",
       "      <th>Sugar</th>\n",
       "      <th>Sodium</th>\n",
       "      <th>Fat</th>\n",
       "      <th>Fiber</th>\n",
       "      <th>Popularity</th>\n",
       "    </tr>\n",
       "  </thead>\n",
       "  <tbody>\n",
       "    <tr>\n",
       "      <th>count</th>\n",
       "      <td>2000.000000</td>\n",
       "      <td>2000.000000</td>\n",
       "      <td>2000.000000</td>\n",
       "      <td>2000.000000</td>\n",
       "      <td>2000.000000</td>\n",
       "      <td>2000.000000</td>\n",
       "      <td>2000.000000</td>\n",
       "      <td>2000.000000</td>\n",
       "      <td>2000.000000</td>\n",
       "    </tr>\n",
       "    <tr>\n",
       "      <th>mean</th>\n",
       "      <td>999.500000</td>\n",
       "      <td>199.996046</td>\n",
       "      <td>39.989139</td>\n",
       "      <td>2.974415</td>\n",
       "      <td>20.004080</td>\n",
       "      <td>74.982853</td>\n",
       "      <td>6.748226</td>\n",
       "      <td>0.490851</td>\n",
       "      <td>49.967119</td>\n",
       "    </tr>\n",
       "    <tr>\n",
       "      <th>std</th>\n",
       "      <td>577.494589</td>\n",
       "      <td>1.127015</td>\n",
       "      <td>1.073182</td>\n",
       "      <td>1.012686</td>\n",
       "      <td>0.888751</td>\n",
       "      <td>1.007484</td>\n",
       "      <td>0.658202</td>\n",
       "      <td>0.292242</td>\n",
       "      <td>10.145767</td>\n",
       "    </tr>\n",
       "    <tr>\n",
       "      <th>min</th>\n",
       "      <td>0.000000</td>\n",
       "      <td>195.897565</td>\n",
       "      <td>36.424752</td>\n",
       "      <td>-0.571292</td>\n",
       "      <td>16.925305</td>\n",
       "      <td>71.405873</td>\n",
       "      <td>5.162155</td>\n",
       "      <td>0.000487</td>\n",
       "      <td>-3.000000</td>\n",
       "    </tr>\n",
       "    <tr>\n",
       "      <th>25%</th>\n",
       "      <td>499.750000</td>\n",
       "      <td>199.212548</td>\n",
       "      <td>39.272877</td>\n",
       "      <td>2.245751</td>\n",
       "      <td>19.409965</td>\n",
       "      <td>74.276512</td>\n",
       "      <td>6.279173</td>\n",
       "      <td>0.238509</td>\n",
       "      <td>42.948183</td>\n",
       "    </tr>\n",
       "    <tr>\n",
       "      <th>50%</th>\n",
       "      <td>999.500000</td>\n",
       "      <td>200.001306</td>\n",
       "      <td>39.977855</td>\n",
       "      <td>2.979177</td>\n",
       "      <td>20.004798</td>\n",
       "      <td>75.000056</td>\n",
       "      <td>6.667726</td>\n",
       "      <td>0.489901</td>\n",
       "      <td>49.955385</td>\n",
       "    </tr>\n",
       "    <tr>\n",
       "      <th>75%</th>\n",
       "      <td>1499.250000</td>\n",
       "      <td>200.777167</td>\n",
       "      <td>40.734991</td>\n",
       "      <td>3.655002</td>\n",
       "      <td>20.588626</td>\n",
       "      <td>75.677900</td>\n",
       "      <td>7.170426</td>\n",
       "      <td>0.736093</td>\n",
       "      <td>57.153024</td>\n",
       "    </tr>\n",
       "    <tr>\n",
       "      <th>max</th>\n",
       "      <td>1999.000000</td>\n",
       "      <td>204.713237</td>\n",
       "      <td>43.561506</td>\n",
       "      <td>6.392027</td>\n",
       "      <td>22.922444</td>\n",
       "      <td>78.232301</td>\n",
       "      <td>9.498653</td>\n",
       "      <td>3.000000</td>\n",
       "      <td>86.469784</td>\n",
       "    </tr>\n",
       "  </tbody>\n",
       "</table>\n",
       "</div>"
      ],
      "text/plain": [
       "        Unnamed: 0     Calories      Serving      Protein        Sugar  \\\n",
       "count  2000.000000  2000.000000  2000.000000  2000.000000  2000.000000   \n",
       "mean    999.500000   199.996046    39.989139     2.974415    20.004080   \n",
       "std     577.494589     1.127015     1.073182     1.012686     0.888751   \n",
       "min       0.000000   195.897565    36.424752    -0.571292    16.925305   \n",
       "25%     499.750000   199.212548    39.272877     2.245751    19.409965   \n",
       "50%     999.500000   200.001306    39.977855     2.979177    20.004798   \n",
       "75%    1499.250000   200.777167    40.734991     3.655002    20.588626   \n",
       "max    1999.000000   204.713237    43.561506     6.392027    22.922444   \n",
       "\n",
       "            Sodium          Fat        Fiber   Popularity  \n",
       "count  2000.000000  2000.000000  2000.000000  2000.000000  \n",
       "mean     74.982853     6.748226     0.490851    49.967119  \n",
       "std       1.007484     0.658202     0.292242    10.145767  \n",
       "min      71.405873     5.162155     0.000487    -3.000000  \n",
       "25%      74.276512     6.279173     0.238509    42.948183  \n",
       "50%      75.000056     6.667726     0.489901    49.955385  \n",
       "75%      75.677900     7.170426     0.736093    57.153024  \n",
       "max      78.232301     9.498653     3.000000    86.469784  "
      ]
     },
     "execution_count": 7,
     "metadata": {},
     "output_type": "execute_result"
    }
   ],
   "source": [
    "numeric_columns.describe()"
   ]
  },
  {
   "cell_type": "code",
   "execution_count": 8,
   "id": "ace30451-4862-47ce-a412-bc979cabe3e2",
   "metadata": {},
   "outputs": [
    {
     "data": {
      "text/html": [
       "<div>\n",
       "<style scoped>\n",
       "    .dataframe tbody tr th:only-of-type {\n",
       "        vertical-align: middle;\n",
       "    }\n",
       "\n",
       "    .dataframe tbody tr th {\n",
       "        vertical-align: top;\n",
       "    }\n",
       "\n",
       "    .dataframe thead th {\n",
       "        text-align: right;\n",
       "    }\n",
       "</style>\n",
       "<table border=\"1\" class=\"dataframe\">\n",
       "  <thead>\n",
       "    <tr style=\"text-align: right;\">\n",
       "      <th></th>\n",
       "      <th>Flavour</th>\n",
       "    </tr>\n",
       "  </thead>\n",
       "  <tbody>\n",
       "    <tr>\n",
       "      <th>count</th>\n",
       "      <td>2000</td>\n",
       "    </tr>\n",
       "    <tr>\n",
       "      <th>unique</th>\n",
       "      <td>4</td>\n",
       "    </tr>\n",
       "    <tr>\n",
       "      <th>top</th>\n",
       "      <td>Chocolate</td>\n",
       "    </tr>\n",
       "    <tr>\n",
       "      <th>freq</th>\n",
       "      <td>678</td>\n",
       "    </tr>\n",
       "  </tbody>\n",
       "</table>\n",
       "</div>"
      ],
      "text/plain": [
       "          Flavour\n",
       "count        2000\n",
       "unique          4\n",
       "top     Chocolate\n",
       "freq          678"
      ]
     },
     "execution_count": 8,
     "metadata": {},
     "output_type": "execute_result"
    }
   ],
   "source": [
    "non_numeric_columns.describe()"
   ]
  },
  {
   "cell_type": "markdown",
   "id": "84b33d0c-0d50-4af6-8e60-eb76b60c75fb",
   "metadata": {},
   "source": [
    "# Mean"
   ]
  },
  {
   "cell_type": "code",
   "execution_count": 9,
   "id": "4c0fe04a-b84a-4400-bf6d-f1316eac4008",
   "metadata": {},
   "outputs": [
    {
     "data": {
      "text/plain": [
       "Unnamed: 0    999.500000\n",
       "Calories      199.996046\n",
       "Serving        39.989139\n",
       "Protein         2.974415\n",
       "Sugar          20.004080\n",
       "Sodium         74.982853\n",
       "Fat             6.748226\n",
       "Fiber           0.490851\n",
       "Popularity     49.967119\n",
       "dtype: float64"
      ]
     },
     "execution_count": 9,
     "metadata": {},
     "output_type": "execute_result"
    }
   ],
   "source": [
    "numeric_columns.mean()"
   ]
  },
  {
   "cell_type": "markdown",
   "id": "1a344042-134e-457b-ba9f-29e5c80c6153",
   "metadata": {},
   "source": [
    "# Median"
   ]
  },
  {
   "cell_type": "code",
   "execution_count": 10,
   "id": "51a1e9c4-2732-41f2-8478-880773bac2af",
   "metadata": {},
   "outputs": [
    {
     "data": {
      "text/plain": [
       "Unnamed: 0    999.500000\n",
       "Calories      200.001306\n",
       "Serving        39.977855\n",
       "Protein         2.979177\n",
       "Sugar          20.004798\n",
       "Sodium         75.000056\n",
       "Fat             6.667726\n",
       "Fiber           0.489901\n",
       "Popularity     49.955385\n",
       "dtype: float64"
      ]
     },
     "execution_count": 10,
     "metadata": {},
     "output_type": "execute_result"
    }
   ],
   "source": [
    "numeric_columns.median()"
   ]
  },
  {
   "cell_type": "markdown",
   "id": "4c81d31c-5e1f-47d2-a516-cd04038c766f",
   "metadata": {},
   "source": [
    "# Variance"
   ]
  },
  {
   "cell_type": "code",
   "execution_count": 11,
   "id": "6ccca8b7-4904-4a3c-9685-05a6eea4335f",
   "metadata": {},
   "outputs": [
    {
     "data": {
      "text/plain": [
       "Unnamed: 0    333500.000000\n",
       "Calories           1.270162\n",
       "Serving            1.151719\n",
       "Protein            1.025532\n",
       "Sugar              0.789878\n",
       "Sodium             1.015025\n",
       "Fat                0.433230\n",
       "Fiber              0.085406\n",
       "Popularity       102.936586\n",
       "dtype: float64"
      ]
     },
     "execution_count": 11,
     "metadata": {},
     "output_type": "execute_result"
    }
   ],
   "source": [
    "numeric_columns.var()"
   ]
  },
  {
   "cell_type": "markdown",
   "id": "bbec8c2a-b0e4-4d71-9c17-7f5192bea812",
   "metadata": {},
   "source": [
    "# Range"
   ]
  },
  {
   "cell_type": "code",
   "execution_count": 12,
   "id": "ff969366-b648-40ed-bd48-4e2c4390f7dd",
   "metadata": {},
   "outputs": [
    {
     "name": "stdout",
     "output_type": "stream",
     "text": [
      "Unnamed: 0    1999.000000\n",
      "Calories         8.815673\n",
      "Serving          7.136754\n",
      "Protein          6.963319\n",
      "Sugar            5.997139\n",
      "Sodium           6.826428\n",
      "Fat              4.336498\n",
      "Fiber            2.999513\n",
      "Popularity      89.469784\n",
      "dtype: float64\n"
     ]
    }
   ],
   "source": [
    "print(numeric_columns.max() - numeric_columns.min())"
   ]
  },
  {
   "cell_type": "markdown",
   "id": "98d8b660-a1d3-4978-97da-7dc4557310aa",
   "metadata": {},
   "source": [
    "# Unique Values"
   ]
  },
  {
   "cell_type": "code",
   "execution_count": 13,
   "id": "1c3bba06-4d1a-43ea-b408-7c53d52ab115",
   "metadata": {},
   "outputs": [
    {
     "data": {
      "text/plain": [
       "Unnamed: 0    2000\n",
       "Calories      2000\n",
       "Serving       2000\n",
       "Protein       2000\n",
       "Sugar         2000\n",
       "Sodium        2000\n",
       "Fat           2000\n",
       "Fiber         2000\n",
       "Popularity    2000\n",
       "dtype: int64"
      ]
     },
     "execution_count": 13,
     "metadata": {},
     "output_type": "execute_result"
    }
   ],
   "source": [
    "numeric_columns.nunique()"
   ]
  },
  {
   "cell_type": "markdown",
   "id": "d12c06bd-3984-49c9-99b1-48c1608d2ffe",
   "metadata": {},
   "source": [
    "# Skewness"
   ]
  },
  {
   "cell_type": "code",
   "execution_count": 14,
   "id": "ef83843d-cb95-47c1-9981-077b05411c8e",
   "metadata": {},
   "outputs": [
    {
     "data": {
      "text/plain": [
       "Unnamed: 0    0.000000\n",
       "Calories      0.041929\n",
       "Serving       0.031222\n",
       "Protein       0.089544\n",
       "Sugar         0.006416\n",
       "Sodium       -0.030713\n",
       "Fat           0.537265\n",
       "Fiber         0.324107\n",
       "Popularity   -0.148562\n",
       "dtype: float64"
      ]
     },
     "execution_count": 14,
     "metadata": {},
     "output_type": "execute_result"
    }
   ],
   "source": [
    "numeric_columns.skew()"
   ]
  },
  {
   "cell_type": "markdown",
   "id": "45e75671-1523-4757-914d-3c81d81a6470",
   "metadata": {},
   "source": [
    "# Kurtosis"
   ]
  },
  {
   "cell_type": "code",
   "execution_count": 15,
   "id": "cd84e71b-10ec-4538-8d25-2f5d347a3785",
   "metadata": {},
   "outputs": [
    {
     "data": {
      "text/plain": [
       "Unnamed: 0   -1.200000\n",
       "Calories      0.198919\n",
       "Serving      -0.119331\n",
       "Protein      -0.099028\n",
       "Sugar        -0.048001\n",
       "Sodium       -0.025462\n",
       "Fat           0.235368\n",
       "Fiber         1.396380\n",
       "Popularity    0.807764\n",
       "dtype: float64"
      ]
     },
     "execution_count": 15,
     "metadata": {},
     "output_type": "execute_result"
    }
   ],
   "source": [
    "numeric_columns.kurtosis()"
   ]
  },
  {
   "cell_type": "markdown",
   "id": "768f07c6-9bdc-4213-8d8d-35144c80a228",
   "metadata": {},
   "source": [
    "# Value Counts"
   ]
  },
  {
   "cell_type": "code",
   "execution_count": 16,
   "id": "1ce8a3a7-baf0-4542-adaf-a553f53cd4e0",
   "metadata": {},
   "outputs": [
    {
     "data": {
      "text/plain": [
       "Flavour\n",
       "Chocolate     678\n",
       "Vanilla       664\n",
       "Strawberry    656\n",
       "undefined       2\n",
       "Name: count, dtype: int64"
      ]
     },
     "execution_count": 16,
     "metadata": {},
     "output_type": "execute_result"
    }
   ],
   "source": [
    "non_numeric_columns['Flavour'].value_counts()"
   ]
  },
  {
   "cell_type": "markdown",
   "id": "f5b67e91-15ba-4ed9-842d-33eafb0a389d",
   "metadata": {},
   "source": [
    "# Undefined Value"
   ]
  },
  {
   "cell_type": "code",
   "execution_count": 17,
   "id": "7ba195a9-bcd1-458b-8a90-0b5f2c8444cc",
   "metadata": {},
   "outputs": [
    {
     "name": "stdout",
     "output_type": "stream",
     "text": [
      "        Flavour\n",
      "401   undefined\n",
      "1935  undefined\n"
     ]
    }
   ],
   "source": [
    "undefined_flavours = non_numeric_columns[non_numeric_columns['Flavour'] == 'undefined']\n",
    "print(undefined_flavours)"
   ]
  }
 ],
 "metadata": {
  "kernelspec": {
   "display_name": "Python 3 (ipykernel)",
   "language": "python",
   "name": "python3"
  },
  "language_info": {
   "codemirror_mode": {
    "name": "ipython",
    "version": 3
   },
   "file_extension": ".py",
   "mimetype": "text/x-python",
   "name": "python",
   "nbconvert_exporter": "python",
   "pygments_lexer": "ipython3",
   "version": "3.11.7"
  }
 },
 "nbformat": 4,
 "nbformat_minor": 5
}
